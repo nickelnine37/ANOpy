{
 "cells": [
  {
   "cell_type": "code",
   "execution_count": 1,
   "id": "4dc9ff43",
   "metadata": {},
   "outputs": [
    {
     "data": {
      "text/html": [
       "<style>.container { width:90% !important; }</style>"
      ],
      "text/plain": [
       "<IPython.core.display.HTML object>"
      ]
     },
     "metadata": {},
     "output_type": "display_data"
    }
   ],
   "source": [
    "from IPython.display import display, HTML\n",
    "display(HTML(\"<style>.container { width:90% !important; }</style>\"))"
   ]
  },
  {
   "cell_type": "code",
   "execution_count": 2,
   "id": "65e3d07e",
   "metadata": {},
   "outputs": [],
   "source": [
    "%load_ext autoreload\n",
    "%autoreload 2"
   ]
  },
  {
   "cell_type": "code",
   "execution_count": 3,
   "id": "5699362f",
   "metadata": {},
   "outputs": [],
   "source": [
    "import numpy as np\n",
    "import matplotlib.pyplot as plt\n",
    "import matplotlib.ticker as mtick\n",
    "from tqdm.notebook import trange, tqdm"
   ]
  },
  {
   "cell_type": "code",
   "execution_count": 4,
   "id": "8c2d02fc",
   "metadata": {},
   "outputs": [],
   "source": [
    "%matplotlib notebook\n",
    "np.set_printoptions(precision=4, linewidth=500, threshold=500, suppress=True)"
   ]
  },
  {
   "cell_type": "code",
   "execution_count": 5,
   "id": "d90645cb",
   "metadata": {},
   "outputs": [],
   "source": [
    "from numpy import kron, eye as I, exp, trace as tr, diag\n",
    "from numpy.linalg import inv, eigh"
   ]
  },
  {
   "cell_type": "code",
   "execution_count": 6,
   "id": "1a480377",
   "metadata": {},
   "outputs": [],
   "source": [
    "from utils import vec, mat, get_chain_graph, get_random_graph, matrix_derivative_numerical, mat_pow, diagi"
   ]
  },
  {
   "cell_type": "code",
   "execution_count": 54,
   "id": "b25f84d9",
   "metadata": {},
   "outputs": [],
   "source": [
    "def get_params(T, N, gamma, beta, random_graph=False, seed=True, p=0.5):\n",
    "    \n",
    "    if seed:\n",
    "        np.random.seed(1)\n",
    "    \n",
    "    Y = np.random.normal(size=(N, T)) \n",
    "    S = np.random.choice([0, 1], p=[1 - p, p], replace=True, size=(N, T))\n",
    "    S_ = 1 - S\n",
    "    Y = Y * S\n",
    "\n",
    "    K = np.exp(-(np.linspace(0, 3, T)[:, None] - np.linspace(0, 3, T)[None, :]) ** 2) + 1e-4 * I(T)\n",
    "    \n",
    "    if random_graph:\n",
    "        _, LT = get_random_graph(T)\n",
    "        _, LN = get_random_graph(N)\n",
    "        \n",
    "    else:\n",
    "        _, LT = get_chain_graph(T)\n",
    "        _, LN = get_chain_graph(N)\n",
    "\n",
    "    lamLT, UT = eigh(LT)\n",
    "    lamLN, UN = eigh(LN)\n",
    "    lamK, V = eigh(K)\n",
    "        \n",
    "    lamT = exp(-beta * lamLT) ** 2\n",
    "    lamN = exp(-beta * lamLN) ** 2\n",
    "\n",
    "    HT = UT @ diag(lamT) @ UT.T\n",
    "    HN = UN @ diag(lamN) @ UN.T\n",
    "    \n",
    "    J = np.outer(lamN, lamT) / (np.outer(lamN, lamT) + gamma)\n",
    "    G = np.outer(lamN, lamT)\n",
    "    \n",
    "    return T, N, gamma, Y, S, S_, lamT, lamN, HT, HN, UT, UN, K, lamK, V, J, G\n",
    "\n",
    "T, N, gamma, Y, S, S_, lamT, lamN, HT, HN, UT, UN, K, lamK, V, J, G = get_params(T=8, N=5, beta=1, gamma=1.4, random_graph=False)"
   ]
  },
  {
   "cell_type": "markdown",
   "id": "fe19c430",
   "metadata": {},
   "source": [
    "# 1. Basic solution\n",
    "\n",
    "For a cost function \n",
    "\n",
    "$$\n",
    "\\newcommand{\\vecc}[1]{\\text{vec}(#1)}\n",
    "\\newcommand{\\Vec}[1]{\\text{vec}\\big(#1\\big)}\n",
    "\\newcommand{\\VEC}[1]{\\text{vec}\\Big(#1\\Big)}\n",
    "\\newcommand{\\diag}[1]{\\text{diag}(#1)}\n",
    "\\newcommand{\\Diag}[1]{\\text{diag}\\big(#1\\big)}\n",
    "\\newcommand{\\DIAG}[1]{\\text{diag}\\Big(#1\\Big)}\n",
    "\\newcommand{\\aand}{\\quad \\text{and} \\quad}\n",
    "\\newcommand{\\orr}{\\quad \\text{or} \\quad}\n",
    "\\newcommand{\\for}{\\; \\text{for} \\;}\n",
    "\\newcommand{\\with}{\\quad \\text{with} \\quad}\n",
    "\\newcommand{\\where}{\\quad \\text{where} \\quad}\n",
    "\\newcommand{\\iif}{\\quad \\text{if} \\quad}\n",
    "\\newcommand{\\SN}{\\Sigma_N}\n",
    "\\newcommand{\\ST}{\\Sigma_T}\n",
    "\\newcommand{\\SNi}{\\Sigma_N^{-1}}\n",
    "\\newcommand{\\STi}{\\Sigma_T^{-1}}\n",
    "\\newcommand{\\tr}[1]{\\text{tr}\\big(#1\\big)}\n",
    "\\newcommand{\\Tr}[1]{\\text{tr}\\Big(#1\\Big)}\n",
    "\\newcommand{\\R}{\\mathbb{R}}\n",
    "C(F) = \\tr{(Y - S \\circ F)^\\top (Y- S \\circ F)} + \\gamma \\, \\tr{H_N^{-2} F H_T^{-2} F^\\top}\n",
    "$$\n",
    "\n",
    "The minimising value of $F$ is \n",
    "\n",
    "$$\n",
    "\\vecc{\\hat{F}} = \\Big( \\Diag{\\vecc{S}} + \\gamma H_T^{-2} \\otimes H_N^{-2}\\Big)^{-1} \\vecc{Y}\n",
    "$$"
   ]
  },
  {
   "cell_type": "code",
   "execution_count": 55,
   "id": "45f89ccc",
   "metadata": {},
   "outputs": [
    {
     "data": {
      "text/plain": [
       "True"
      ]
     },
     "execution_count": 55,
     "metadata": {},
     "output_type": "execute_result"
    }
   ],
   "source": [
    "HNi = inv(HN)\n",
    "HTi = inv(HT)\n",
    "\n",
    "def ff(F):\n",
    "    return tr((Y - S * F).T @ (Y - S * F)) + gamma * tr(HNi @ F @ HTi @ F.T)\n",
    "\n",
    "F_star = inv(diag(vec(S)) + gamma * kron(HTi, HNi)) @ vec(Y)\n",
    "\n",
    "np.allclose(matrix_derivative_numerical(ff, mat(F_star, like=Y)), 0, atol=1e-5)"
   ]
  },
  {
   "cell_type": "markdown",
   "id": "48dd3f98",
   "metadata": {},
   "source": [
    "# Transformed version\n",
    "\n",
    "Define $Z$ in the following way\n",
    "\n",
    "$$\n",
    "F = U_N \\, (G^{1/2} \\circ Z) \\, U_T^\\top\n",
    "$$\n",
    "\n",
    "Then \n",
    "\n",
    "$$\n",
    "C(Z) = \\Tr{\\big(Y - S \\circ (U_N \\, (G^{1/2} \\circ Z) \\, U_T^\\top) \\big)^\\top \\big(Y- S \\circ (U_N \\, (G^{1/2} \\circ Z) \\, U_T^\\top) \\big)} + \\gamma \\, \\tr{Z^\\top Z}\n",
    "$$"
   ]
  },
  {
   "cell_type": "code",
   "execution_count": 56,
   "id": "ecc0125b",
   "metadata": {},
   "outputs": [],
   "source": [
    "Z = np.random.normal(size=Y.shape)\n",
    "F = UN @ (G ** 0.5 * Z) @ UT.T\n",
    "\n",
    "def fz(Z):\n",
    "    return tr((Y - S * (UN @ (G ** 0.5 * Z) @ UT.T)).T @ (Y - S * (UN @ (G ** 0.5 * Z) @ UT.T))) + gamma * tr(Z.T @ Z)\n",
    "\n",
    "def derivz(Z):\n",
    "    return 2 * gamma * Z - 2 * UN.T @ Y @ UT * G ** 0.5 + 2 * (UN.T @ (S * (UN @ (G ** 0.5 * Z) @ UT.T)) @ UT) * G ** 0.5"
   ]
  },
  {
   "cell_type": "code",
   "execution_count": 57,
   "id": "1e1124bf",
   "metadata": {},
   "outputs": [
    {
     "data": {
      "text/plain": [
       "True"
      ]
     },
     "execution_count": 57,
     "metadata": {},
     "output_type": "execute_result"
    }
   ],
   "source": [
    "np.isclose(fz(Z), ff(F))"
   ]
  },
  {
   "cell_type": "code",
   "execution_count": 58,
   "id": "b40af519",
   "metadata": {},
   "outputs": [
    {
     "data": {
      "text/plain": [
       "True"
      ]
     },
     "execution_count": 58,
     "metadata": {},
     "output_type": "execute_result"
    }
   ],
   "source": [
    "np.allclose(matrix_derivative_numerical(fz, Z), derivz(Z), atol=1e-5)"
   ]
  },
  {
   "cell_type": "code",
   "execution_count": 63,
   "id": "436111da",
   "metadata": {},
   "outputs": [],
   "source": [
    "R = 1 / (S + gamma)\n",
    "\n",
    "Z_star = G ** - 0.5 * (UN @ (R * (UN @ (G * (UN.T @ Y @ UT)) @ UT.T)) @ UT)"
   ]
  },
  {
   "cell_type": "code",
   "execution_count": 64,
   "id": "9666033a",
   "metadata": {},
   "outputs": [
    {
     "data": {
      "text/plain": [
       "array([[  0.6784,  -0.694 ,   0.5546,  -0.1929,  -0.2861,   0.046 ,   0.9709,  -1.1446],\n",
       "       [  0.2833,  -1.1155,   0.2591,   0.3048,  -0.1293,  -0.828 ,  -0.735 ,   2.1988],\n",
       "       [ -0.5842,   0.7905,  -0.5306,  -0.5123,   2.6439,   3.6093,  -8.9486,   1.9216],\n",
       "       [  3.3063,  -8.4276,   0.6929,   2.3785,  -0.9011, -11.7847,  50.4395, -11.1765],\n",
       "       [-15.5925,  14.6645, -17.1637,   4.8492,  13.8062,   3.0089,  -6.242 ,  30.6649]])"
      ]
     },
     "execution_count": 64,
     "metadata": {},
     "output_type": "execute_result"
    }
   ],
   "source": [
    "derivz(Z_star)"
   ]
  },
  {
   "cell_type": "code",
   "execution_count": null,
   "id": "46a9d5e3",
   "metadata": {},
   "outputs": [],
   "source": []
  }
 ],
 "metadata": {
  "kernelspec": {
   "display_name": "Python 3 (ipykernel)",
   "language": "python",
   "name": "python3"
  },
  "language_info": {
   "codemirror_mode": {
    "name": "ipython",
    "version": 3
   },
   "file_extension": ".py",
   "mimetype": "text/x-python",
   "name": "python",
   "nbconvert_exporter": "python",
   "pygments_lexer": "ipython3",
   "version": "3.10.0"
  }
 },
 "nbformat": 4,
 "nbformat_minor": 5
}
